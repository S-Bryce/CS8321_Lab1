{
 "cells": [
  {
   "cell_type": "markdown",
   "metadata": {},
   "source": [
    "Authors: Michael Amberg, Wali Chaudhary, Bryce Shurts"
   ]
  },
  {
   "cell_type": "markdown",
   "source": [
    "# Note: This project was coded in python & transferred to a IPYNB for final submission as an HTML file."
   ],
   "metadata": {
    "collapsed": false
   }
  },
  {
   "cell_type": "markdown",
   "source": [
    "RUBRIC\n",
    "\n",
    "[2 Points] Present an overview for what type of bias you will be investigating and why the particular investigation you will be doing is relevant. You might consider asking questions like: Why is it important to find this kind of bias in machine learning models? Why will the type of investigation I am performing be relevant to other researchers or practitioners? \n",
    "\n",
    "[2 Points] Present one or more research questions that you will be answering and explain the methods that you will employ to answer these research questions. Present a hypothesis as part of your research questions. \n",
    "\n",
    "[2 Points] As part of your assignment, you will choose a methodology that involves comparing two (or more) techniques to one another. Discuss how you will measure a difference between the two techniques. That is, if you are measuring the difference statistically, what test will you use and why is it appropriate? Are there any limitations to performing this test that you should be aware of? \n",
    "\n",
    "[4 Points] Carryout your analysis and model training. Explain your steps in as much detail so that the instructor can understand your code. \n",
    "\n",
    "[4 Points] Present results from your analysis and provide evidence from the results that support or refute your hypothesis. Write a conclusion based upon the various analyses you performed. Be sure to reference your research questions systematically in your conclusion. With your analysis complete, are there any additional research questions or limitations to your conclusions?\n",
    "\n",
    "[1 Points] Identify two conferences or journals that would be interested in the results of your analysis.  \n",
    "If using code from another author (not your own), you will be graded on the clarity of explanatory comments you add to the code. \n"
   ],
   "metadata": {
    "collapsed": false
   }
  },
  {
   "cell_type": "markdown",
   "source": [
    "# Analysis overview\n",
    "While much of the lab and lessons focus on types of semantic bias embedded into vectors (racial, gender, etc.), we seek to evaluate a more definitionally-focused bias. That is, we seek to investigate the sense bias of the single-sense word embeddings Glove & Numberbatch, and evaluate their ability to avoid biasing toward certain definitions of a set of given words.\n",
    "Our inspiration for this comes from reasoning agents, such as logic tensor networks (LTNs), that might rely upon semantic vectors for sub-symbolic reasoning and extrapolation of information outside the knowledge of its knowledge base. Consider the following sentence: “I really enjoyed that club today.” Is the subject talking about a golf club, a club sandwich, or an organization? Using our reasoning abilities as human beings, we can infer from the sentence structure that the usage of “club” probably refers to an object like a sandwich or a golf club, rather than an organizational body (in which case, “the club meeting”, “enjoyed trying out that club”, etc. would be a more common phrasing), but an AI does not have this ability: it must rely on the embeddings it has been given.\n",
    "In a perfectly unbiased system, i.e., one that has the vector of “club” perfectly equidistance in all components for all possible disambiguations of the word, we would not expect the agent/system to infer a bias towards one definition or another, and for there to be a good chance that it determines an accurate conclusion when processing the sentence against some given query (e.g., “Was the club tasty?”). In a biased case, however, the network may have difficult resolving the information on how the word is represented versus what the word meant in proper context: in the worst case it will only have information from a single one of the possible definitions, which would cause the reasonability score of a query to drop even more sharply than in the merely biased case. Therefore, we believe it important to evaluate this kind of bias for the benefit of researchers attempting to utilize pre-trained word embeddings to add additional information to their networks where systemic definitional bias in a single-sense embedding could impair performance.\n"
   ],
   "metadata": {
    "collapsed": false
   }
  },
  {
   "cell_type": "markdown",
   "source": [
    "# Research questions & hypothesis\n",
    "Before we begin any research and experimentation at all, we must first define what we are trying to figure out, the questions that define this, and provide an expectation that we will be seeing to find evidence in support or refutation of. Put simply, we wish to evaluate whether or not the semantic de-biasing that Numberbatch is well-known for has extended into its performance w.r.t word senses and its ability to evenly represent multiple word senses within a single vector. More specifically, we ask the following:\n",
    "1.\tHas Numberbatch’s efforts to improve upon previous word embedding performance (multi-lingual, semantic debiasing, etc.) improved its ability to provide well-centered definitions for ambiguous words?\n",
    "2.\tIf Numberbatch does have an improved ability to equally represent multiple senses, in what cases is this? Is it universally better, or is it only better when specific measures are applied (e.g., is only the cosine similarity metric improved considerably? Is it better in all respects to the Minkowski distance regardless of p value? Is it always worse than some other word embedding?)\n",
    "These questions, then, inform on the reasonability and accuracy of our hypothesis: Due to Numberbatch’s multi-lingual nature and debiasing efforts, we believe that it will exhibit superior performance vis-à-vis having semantic vectors that are near-equidistant to disambiguated definitional senses.\n"
   ],
   "metadata": {
    "collapsed": false
   }
  },
  {
   "cell_type": "markdown",
   "source": [
    "# Measurement strategy\n",
    "To answer these questions and attempt to find an answer for our hypothesis, we consider two separate metrics: the distance between vectors, and how similar any 2 given vectors are. For measuring distance, we use the Minkowski distance formula with 2 sperate p values, p=1 (the Manhattan distance) & p=2 (the Euclidian distance). We believe that the Manhattan distance will provide better results given the high dimensionality space the embeddings operate in, but we will also include the Euclidian distance for completion’s sake and for cross-comparison against the Manhattan distance findings. For comparison vector similarity, we instead turn to the cosine similarity formula, so that we might evaluate how similar any two words, or datapoints, are to each other.\n",
    "Within any given measurement method, we will compare each of our 2 embeddings, utilizing a set of words that we have hand-picked for their ambiguity, alongside disambiguating synonyms for the potential definitions. From there, the process is as such:\n",
    "1.\tExample words: light (ambiguous word), illumination (disambiguated definition), & lightweight (disambiguated definition)\n",
    "2.\tTake the Manhattan distance, Euclidian distance, and Cosine similarity of light & illumination, as well as light & lightweight\n",
    "3.\tCompute the ratio of the distance by dividing the larger number by the smaller number\n",
    "4.\tRepeat this process for the other word embedding\n",
    "5.\tRepeat for all sets of words provided (25 total)\n",
    "6.\tBoxplot these ratios on a per-metric basis\n",
    "This will allow us to compare several kinds of potential metrics to mitigate potential biases that may result from the representation of distance and/or similarity in just one metric (the Euclidian distance, for instance, may overly equalize the high dimensionality data). By having 3 metrics, we provide the opportunity for there to be a quorum: we expect that in the case of one set of word embeddings performing better than the others w.r.t how well-balanced the ambiguous words are represented, then we should see it outperform the other word embeddings in at least 2 of the 3 metrics.\n"
   ],
   "metadata": {
    "collapsed": false
   }
  },
  {
   "cell_type": "code",
   "execution_count": 6,
   "metadata": {
    "ExecuteTime": {
     "end_time": "2024-02-13T05:54:49.528478200Z",
     "start_time": "2024-02-13T05:54:49.478476900Z"
    }
   },
   "outputs": [],
   "source": [
    "import math\n",
    "import os\n",
    "from types import FunctionType\n",
    "\n",
    "import pandas as pd\n",
    "import torch\n",
    "import torchtext\n",
    "from gensim.models import KeyedVectors\n",
    "\n",
    "# BASE_PATH: str = os.path.dirname(os.path.abspath(__file__))\n",
    "BASE_PATH: str = \"\" # REPLACE THIS LINE FOR YOUR LOCAL\n",
    "\n",
    "CLASSIFIERS_PATH: str = BASE_PATH + \"classifiers/\"\n",
    "DATASET_PATH: str = BASE_PATH + \"datasets/\"\n",
    "EMBEDDINGS_PATH: str = BASE_PATH + \"embeddings/\"\n",
    "NUM_EMOTIONS: int = 28\n",
    "EMBED_SIZE: int = 0\n",
    "\n",
    "# Check if our key directories exist\n",
    "if not os.path.exists(CLASSIFIERS_PATH):\n",
    "    raise FileNotFoundError(\"Could not find folder for classifier models.\")\n",
    "if not os.path.exists(DATASET_PATH):\n",
    "    raise FileNotFoundError(\"Could not find folder with GoEmotion dataset.\")\n",
    "if not os.path.exists(EMBEDDINGS_PATH):\n",
    "    raise FileNotFoundError(\"Could not find folder with word embeddings sets.\")\n",
    "\n",
    "# Is the cuda GPU available?\n",
    "if not torch.cuda.is_available():\n",
    "    print(\"Warning: Using CPU for Pytorch.\")\n",
    "device: device = torch.device(\"cuda\") if torch.cuda.is_available() else torch.device(\"cpu\")"
   ]
  },
  {
   "cell_type": "code",
   "execution_count": 7,
   "metadata": {
    "ExecuteTime": {
     "end_time": "2024-02-13T05:54:52.428543200Z",
     "start_time": "2024-02-13T05:54:52.417045200Z"
    }
   },
   "outputs": [],
   "source": [
    "class pandas_dataset(torch.utils.data.Dataset):\n",
    "    def __init__(self, df: pd.DataFrame) -> None:\n",
    "        self.df = df\n",
    "\n",
    "    def __len__(self) -> int:\n",
    "        return self.df.shape[0]\n",
    "\n",
    "    def __getitem__(self, index: int) -> (str, str):\n",
    "        return self.df[\"text\"].iloc[index], self.df[\"emotion_ids\"].iloc[index]"
   ]
  },
  {
   "cell_type": "code",
   "execution_count": 8,
   "metadata": {
    "ExecuteTime": {
     "end_time": "2024-02-13T05:54:53.118042500Z",
     "start_time": "2024-02-13T05:54:53.089042600Z"
    }
   },
   "outputs": [],
   "source": [
    "def parse_word2vec(word2vec_embeddings, embedding_components) -> tuple[dict[str, int], torch.Tensor]:\n",
    "        word_labels: dict[str, int] = {}\n",
    "        tensor: torch.Tensor = torch.empty((EMBED_SIZE + 1, embedding_components), dtype=torch.float32, device=device)\n",
    "        \n",
    "        # Clean up the file and load the embeddings into a tensor\n",
    "        loop_idx = 0\n",
    "        for word, idx in word2vec_embeddings.key_to_index.items():\n",
    "            word_labels[word] = idx\n",
    "            tensor[idx] = torch.tensor(word2vec_embeddings.get_vector(word), dtype=torch.float32,\n",
    "                                         device=device)\n",
    "            # Output our progress every 100,000 words\n",
    "            if (loop_idx + 1) % 100000 == 0:\n",
    "                print(\"Processed {}/{}\".format(loop_idx + 1, EMBED_SIZE))\n",
    "            loop_idx += 1\n",
    "        tensor[-1] = torch.zeros(embedding_components, dtype=torch.float32, device=device)\n",
    "\n",
    "        # Adding a padding token\n",
    "        word_labels[\"<PAD>\"] = EMBED_SIZE\n",
    "        tensor.to(device)\n",
    "        return word_labels, tensor\n",
    "\n",
    "\"\"\"Deserialize the embeddings, and return word labels with their corresponding tensors.\"\"\"\n",
    "def get_vectors(embedding: str) -> tuple[dict[str, int], torch.Tensor]:\n",
    "    skip_first_line: bool = False\n",
    "    global EMBED_SIZE\n",
    "    match embedding:\n",
    "        case \"glove\":\n",
    "            embedding_path: str = EMBEDDINGS_PATH + \"glove.840B.300d.txt\"\n",
    "            EMBED_SIZE = 2196018\n",
    "            embedding_components: int = 300\n",
    "        case \"word2vec\":\n",
    "            embedding_path: str = EMBEDDINGS_PATH + \"GoogleNews-vectors-negative300.bin\"\n",
    "            gn_model = KeyedVectors.load_word2vec_format(embedding_path, binary=True)\n",
    "            embedding_components: int = 300\n",
    "            EMBED_SIZE = 3000000\n",
    "            return parse_word2vec(gn_model, embedding_components)\n",
    "        case \"numberbatch\":\n",
    "            embedding_path: str = EMBEDDINGS_PATH + \"numberbatch-19.08-en.txt\"\n",
    "            EMBED_SIZE = 516782\n",
    "            embedding_components: int = 300\n",
    "            skip_first_line = True\n",
    "        case default:\n",
    "            raise RuntimeError(\"Invalid embedding chosen.\")\n",
    "        \n",
    "    # Deserializing glove and numberbatch embeddings\n",
    "    if not os.path.exists(embedding_path):\n",
    "        raise FileNotFoundError(\"Could not find embedding file: {}\".format(embedding_path))\n",
    "    with (open(embedding_path, encoding=\"utf_8\") as embeddings_file):\n",
    "        word_labels: dict[str, int] = {}\n",
    "        tensor: torch.Tensor = torch.empty((EMBED_SIZE + 1, embedding_components), dtype=torch.float32, device=device)\n",
    "        \n",
    "        # We need to skip the first line of the numberbatch embeddings because that's header information\n",
    "        if skip_first_line:\n",
    "            _ = embeddings_file.readline()\n",
    "        \n",
    "        # Clean up the file and load the embeddings into a tensor\n",
    "        for index, embedding in enumerate(embeddings_file):\n",
    "            embedding_split: list[str] = embedding.rstrip().split(\" \")\n",
    "            word_labels[embedding_split[0]] = index # Assign the word to the index\n",
    "            tensor[index] = torch.tensor([float(val) for val in embedding_split[1:]], dtype=torch.float32, # Every element except the first is converted to a float\n",
    "                                         device=device)\n",
    "            # Output our progress every 100,000 words\n",
    "            if (index + 1) % 100000 == 0:\n",
    "                print(\"Processed {}/{}\".format(index + 1, EMBED_SIZE))\n",
    "        tensor[-1] = torch.zeros(embedding_components, dtype=torch.float32, device=device)\n",
    "\n",
    "        # Adding a padding token\n",
    "        word_labels[\"<PAD>\"] = EMBED_SIZE\n",
    "        tensor.to(device)\n",
    "        return word_labels, tensor"
   ]
  },
  {
   "cell_type": "code",
   "execution_count": 9,
   "metadata": {
    "ExecuteTime": {
     "end_time": "2024-02-13T05:54:56.362827Z",
     "start_time": "2024-02-13T05:54:55.538926Z"
    }
   },
   "outputs": [],
   "source": [
    "# Download link for word2vec: https://drive.google.com/file/d/0B7XkCwpI5KDYNlNUTTlSS21pQmM/edit?usp=sharing\n",
    "# Download link for Glove: https://huggingface.co/stanfordnlp/glove/resolve/main/glove.840B.300d.zip\n",
    "\n",
    "import matplotlib.pyplot as plt\n",
    "import numpy as np\n",
    "from numpy import ndarray\n",
    "from sklearn.manifold import TSNE\n",
    "from torch import Tensor, cat\n",
    "from torch.cuda import is_available as cuda_is_available\n",
    "from train import get_vectors\n",
    "\n",
    "\n",
    "# EDITABLE VARIABLES\n",
    "embeddings = [\"numberbatch\", \"glove\"] # Embeddings definition. Add word2vec once deserialization is done.\n",
    "\n",
    "# Word comparison groups. Format: [base_word, similar_word_1, similar_word_2]\n",
    "word_comparison_groups = [\n",
    "    [\"tire\", \"tired\", \"tyre\"],\n",
    "    [\"chest\", \"thorax\", \"crate\"],\n",
    "    [\"fall\", \"autumn\", \"plummet\"],\n",
    "    [\"bear\", \"carry\", \"ursidae\"],\n",
    "    [\"proof\", \"evidence\", \"testing\"],\n",
    "    [\"tear\", \"rip\", \"droplet\"],\n",
    "    [\"salty\", \"flavored\", \"tough\"],\n",
    "    [\"land\", \"earth\", \"arrive\"],\n",
    "    [\"close\", \"near\", \"shut\"],\n",
    "    [\"light\", \"illumination\", \"lightweight\"],\n",
    "    [\"match\", \"competition\", \"firestarter\"],\n",
    "    [\"wind\", \"breeze\", \"coil\"],\n",
    "    [\"fly\", \"diptera\", \"flight\"],\n",
    "    [\"lead\", \"guide\", \"pb\"],\n",
    "    [\"watch\", \"observe\", \"wristwatch\"],\n",
    "    [\"file\", \"organize\", \"rasp\"],\n",
    "    [\"change\", \"modify\", \"currency\"],\n",
    "    [\"bark\", \"woof\", \"skin\"],\n",
    "    [\"refuse\", \"decline\", \"garbage\"],\n",
    "    [\"protest\", \"rally\", \"complain\"],\n",
    "    [\"escort\", \"companion\", \"accompany\"],\n",
    "    [\"produce\", \"food\", \"make\"],\n",
    "    [\"desert\", \"abandon\", \"wilderness\"],\n",
    "    [\"live\", \"stream\", \"exist\"],\n",
    "    [\"house\", \"home\", \"contain\"]\n",
    "]\n",
    "\n",
    "# Add a new distance function here if you want.\n",
    "\"\"\"Calculate the distances between a base word and two similar words using Euclidean, Cosine, and Manhattan distances.\"\"\"\n",
    "def calculate_distances(base_word: ndarray[float], similar_word_1: ndarray[float], similar_word_2: ndarray[float]) -> dict[str, list[float]]:\n",
    "    return {\n",
    "        \"euclidean\": [euclidean_distance(similar_word_1, base_word), euclidean_distance(similar_word_2, base_word)],\n",
    "        \"cosine\": [cosine_similarity(similar_word_1, base_word), cosine_similarity(similar_word_2, base_word)],\n",
    "        \"manhattan\": [manhattan_distance(similar_word_1, base_word), manhattan_distance(similar_word_2, base_word)],\n",
    "    }\n",
    "\n",
    "# We should look at comparing vectors in different embeddings and see how well ambigious words center around common\n",
    "# synonyms for each meaning. We could probably do some sort of visualization for this as well.\n",
    "\n",
    "def euclidean_distance(vector1: Tensor, vector2: Tensor) -> float:\n",
    "    return np.linalg.norm(vector1 - vector2)\n",
    "\n",
    "def cosine_similarity(vector1: Tensor, vector2: Tensor) -> float:\n",
    "    return np.dot(vector1, vector2) / (np.linalg.norm(vector1) * np.linalg.norm(vector2))\n",
    "\n",
    "def manhattan_distance(v1, v2):\n",
    "    return np.sum(np.abs(v1 - v2))"
   ]
  },
  {
   "cell_type": "code",
   "execution_count": 10,
   "metadata": {
    "ExecuteTime": {
     "end_time": "2024-02-13T05:54:57.887905600Z",
     "start_time": "2024-02-13T05:54:57.875892100Z"
    }
   },
   "outputs": [],
   "source": [
    "\"\"\"Converts the given list of tensors to a numpy array based on GPU availability.\"\"\"\n",
    "def convert_tensors_to_numpy(embeddings_list: list[Tensor]) -> ndarray[float]:\n",
    "    if cuda_is_available():\n",
    "        numpy_vectors = np.array([vector.cpu().numpy() for vector in embeddings_list])\n",
    "    else:\n",
    "        numpy_vectors = np.array([vector.numpy() for vector in embeddings_list])\n",
    "    return numpy_vectors\n",
    "\n",
    "\"\"\"Returns the word vectors to compare from the given numpy vectors. These vectors are a word groups members\"\"\"\n",
    "def get_word_vectors_to_compare(numpy_vectors: ndarray[float]) -> tuple[ndarray[float], ndarray[float], ndarray[float]]:\n",
    "    return numpy_vectors[0], numpy_vectors[1], numpy_vectors[2]\n",
    "\n",
    "\"\"\"Returns a dictionary of distance types to their calculated distances for the given word vectors.\"\"\"\n",
    "def get_distances(embeddings_list: list[Tensor]) -> dict[str, list[float]]:\n",
    "    numpy_vectors = convert_tensors_to_numpy(embeddings_list)\n",
    "    base_word, similar_word1, similar_word2 = get_word_vectors_to_compare(numpy_vectors)\n",
    "    return calculate_distances(base_word, similar_word1, similar_word2)\n",
    "\n",
    "\"\"\"Returns a dictionary of embedding names to their respective word vectors and vocabularies\"\"\"\n",
    "def get_embeddings(embeddings: list[str]) -> dict[str, (dict[str, int], Tensor)]:\n",
    "    if len(embeddings) == 0:\n",
    "        raise ValueError(\"No embeddings were selected to load.\")\n",
    "    \n",
    "    result = {}\n",
    "    for embedding in embeddings:\n",
    "        vocab, vectors = get_vectors(embedding)\n",
    "        result[embedding] = (vocab, vectors)\n",
    "    return result\n",
    "\n",
    "\"\"\"Returns a dictionary of embedding names to a list of comparison groups, the words whose distances are being compared\"\"\"\n",
    "def get_comparison_embeddings(embeddings: dict[str, (dict[str, int], Tensor)]) -> dict[str, list[list[Tensor]]]:\n",
    "    # Dictionary of embedding name to list of comparison groups\n",
    "    result: dict[str, list[list[Tensor]]] = {}\n",
    "    for embed_name, (vocab, vectors) in embeddings.items():\n",
    "        comparisons = []\n",
    "        if embed_name not in result:\n",
    "            result[embed_name] = []\n",
    "        \n",
    "        # Populate the comparison groups\n",
    "        for idx, group in enumerate(word_comparison_groups):\n",
    "            comparisons = []\n",
    "            for word in group:\n",
    "                comparisons.append(vectors[vocab[word]])\n",
    "            result[embed_name].append(comparisons)\n",
    "    return result\n",
    "\n",
    "\"\"\"Returns a dictionary of embedding names to a list of dictionaries of distance types to their calculated distances\"\"\"\n",
    "def compare_embeddings(comparison_embeddings: dict[str, list[list[Tensor]]]) -> dict[str, list[dict[str, list[float]]]]:\n",
    "    result = {}\n",
    "    for embedding, word_groups in comparison_embeddings.items():\n",
    "        for idx, group_vectors in enumerate(word_groups):\n",
    "            if result.get(embedding) is None:\n",
    "                result[embedding] = []\n",
    "            distances: dict[str, list[float]] = get_distances(group_vectors)\n",
    "            result[embedding].append(distances)\n",
    "    return result"
   ]
  },
  {
   "cell_type": "code",
   "execution_count": 11,
   "metadata": {
    "ExecuteTime": {
     "end_time": "2024-02-13T05:54:59.149423500Z",
     "start_time": "2024-02-13T05:54:59.143421Z"
    }
   },
   "outputs": [],
   "source": [
    "\n",
    "\"\"\"Plots boxplots of the distance ratios for each embedding and distance type.\"\"\"\n",
    "def compare_distances(embedding_distances: dict[str, list[dict[str, list[float]]]]):\n",
    "    \"\"\"Returns a dictionary of embedding names to a dictionary of distance types to their calculated distance ratios.\"\"\"\n",
    "    def calculate_distance_ratios():\n",
    "        # Dict of embedding name to distance type and all of that distance type's calculated distance ratios\n",
    "        ratios: dict[str, dict[str, list[float]]] = {}\n",
    "        # For every distance type for embeddings\n",
    "        for embedding_name, distances in embedding_distances.items():\n",
    "            ratios[embedding_name] = {}\n",
    "            for distance in distances:\n",
    "                for distance_type, values in distance.items():\n",
    "                    if ratios[embedding_name].get(distance_type) is None:\n",
    "                        ratios[embedding_name][distance_type] = []\n",
    "                    ratio = (max(values[0], values[1]) / min(values[0], values[1]))\n",
    "                    ratios[embedding_name][distance_type].append(ratio)\n",
    "        return ratios\n",
    "\n",
    "    \"\"\"\n",
    "    Plots boxplots of the distance ratios for each embedding and distance type.\n",
    "    Args: ratios: dict[str, dict[str, list[float]]] - Dictionary of embedding names to a dictionary of distance types to a list of all their calculated distance ratios.\n",
    "    \n",
    "    Ex:\n",
    "    ratios = {\n",
    "        \"glove\": {\n",
    "            \"euclidean\": [1.0, 2.55, 1.380, 4.44, 4.4, 4983],\n",
    "            \"cosine\": [1.0, 2.55, 1.380, 4.44, 4.4, 4983],\n",
    "            ...\n",
    "        },\n",
    "        \"numberbatch\": {\n",
    "            \"euclidean\": [1.0, 2.55, 1.380, 4.44, 4.4, 4983],\n",
    "            \"cosine\": [1.0, 2.55, 1.380, 4.44, 4.4, 4983],\n",
    "            ...        \n",
    "        }\n",
    "    }\n",
    "    \"\"\"\n",
    "    def show_boxplots(ratios: dict[str, dict[str, list[float]]]):\n",
    "        distances: list[dict[str, list[float]]] = list(ratios.values())\n",
    "        # Get all the values per distance type for every embedding\n",
    "        to_plot = {}\n",
    "        for i in range(0, len(distances)):\n",
    "            for embedding_name, distances2 in ratios.items():\n",
    "                for distance_type, values in distances2.items():\n",
    "                    print(embedding_name, distance_type, values)\n",
    "                    if to_plot.get(distance_type) is None:\n",
    "                        to_plot[distance_type] = {}\n",
    "                    to_plot[distance_type][embedding_name] = values\n",
    "        \n",
    "        # For every distance metric, plot boxplots for all embeddings\n",
    "        for distance_type, embedding_data in to_plot.items():\n",
    "            fig, axs = plt.subplots(figsize=(10, 8))\n",
    "            boxplots_data = []\n",
    "            labels = []\n",
    "            for embedding_name, values in embedding_data.items():\n",
    "                boxplots_data.append(values)\n",
    "                labels.append(embedding_name)\n",
    "            axs.boxplot(boxplots_data)\n",
    "            axs.set_xticklabels(labels)\n",
    "            axs.set_title(distance_type)\n",
    "            plt.tight_layout()\n",
    "            plt.show()\n",
    "    \n",
    "    # Dict of embedding name to distance type and its calculated distance ratio\n",
    "    ratios = calculate_distance_ratios()\n",
    "    show_boxplots(ratios)"
   ]
  },
  {
   "cell_type": "code",
   "execution_count": 12,
   "metadata": {
    "ExecuteTime": {
     "end_time": "2024-02-13T06:02:45.386688400Z",
     "start_time": "2024-02-13T05:55:02.322508100Z"
    }
   },
   "outputs": [
    {
     "name": "stdout",
     "output_type": "stream",
     "text": [
      "Processed 100000/516782\n",
      "Processed 200000/516782\n",
      "Processed 300000/516782\n",
      "Processed 400000/516782\n",
      "Processed 500000/516782\n",
      "Processed 100000/2196018\n",
      "Processed 200000/2196018\n",
      "Processed 300000/2196018\n",
      "Processed 400000/2196018\n",
      "Processed 500000/2196018\n",
      "Processed 600000/2196018\n",
      "Processed 700000/2196018\n",
      "Processed 800000/2196018\n",
      "Processed 900000/2196018\n",
      "Processed 1000000/2196018\n",
      "Processed 1100000/2196018\n",
      "Processed 1200000/2196018\n",
      "Processed 1300000/2196018\n",
      "Processed 1400000/2196018\n",
      "Processed 1500000/2196018\n",
      "Processed 1600000/2196018\n",
      "Processed 1700000/2196018\n",
      "Processed 1800000/2196018\n",
      "Processed 1900000/2196018\n",
      "Processed 2000000/2196018\n",
      "Processed 2100000/2196018\n",
      "numberbatch euclidean [2.0228667, 1.3917134, 1.0818952, 1.6763003, 1.7939473, 1.5877889, 1.2180035, 1.290396, 1.0466881, 1.7501041, 1.146394, 1.6071962, 1.0081002, 1.1423978, 1.0892727, 1.0956494, 1.5042249, 1.2922068, 1.0811625, 1.0834851, 1.100152, 1.2863295, 1.3524644, 1.1069232, 1.6510735]\n",
      "numberbatch cosine [2.6500287, 2.0938087, 1.1085597, 1.8618876, 2.8175888, 6.1084785, 3.0793502, 4.961867, 1.0450932, 2.1944315, 2.1919627, 3.9952605, 1.0075816, 2.3467934, 1.1080618, 1.6068223, 3.6705792, 2.3066344, 1.2970155, 1.232057, 1.3476558, 3.274028, 2.7021053, 1.5486946, 11.76156]\n",
      "numberbatch manhattan [2.0025144, 1.3642163, 1.0899386, 1.7095814, 1.854679, 1.6441368, 1.1963086, 1.2979554, 1.0257467, 1.7010318, 1.1404572, 1.5941116, 1.021482, 1.1472604, 1.0993924, 1.0838928, 1.5407184, 1.2241504, 1.1203464, 1.1117703, 1.0834156, 1.2353876, 1.3713664, 1.0646703, 1.6240363]\n",
      "glove euclidean [1.80643, 1.0634828, 1.1769202, 1.4045603, 1.3819504, 1.4834409, 1.1600482, 1.2198783, 1.1205531, 1.451329, 1.4492497, 1.5065567, 1.5511786, 1.1549554, 1.0623455, 1.1710093, 1.3425051, 1.1364269, 1.1792902, 1.1143231, 1.0037423, 1.3694654, 1.2187216, 1.0328593, 1.8140345]\n",
      "glove cosine [3.4946642, 1.6817666, 1.4111406, 4.9816895, 1.8850092, 3.0066674, 1.908259, 2.194557, 1.29481, 1.761425, 13.256642, 2.616554, 3.796211, -12.88541, 1.0166398, 2.8681402, 1.5221355, 1.1785792, 1.5623147, 1.3801688, 1.2294286, 1.3801413, 2.099358, 1.2082306, 4.5782485]\n",
      "glove manhattan [1.7540103, 1.0969442, 1.1869347, 1.2105391, 1.4495208, 1.4890776, 1.1061083, 1.2799182, 1.1413, 1.5007144, 1.4227923, 1.4613079, 1.4249897, 1.0544475, 1.0538039, 1.1646063, 1.371531, 1.1094269, 1.1920967, 1.0851222, 1.0252665, 1.3570292, 1.2329587, 1.0488713, 1.7074987]\n",
      "numberbatch euclidean [2.0228667, 1.3917134, 1.0818952, 1.6763003, 1.7939473, 1.5877889, 1.2180035, 1.290396, 1.0466881, 1.7501041, 1.146394, 1.6071962, 1.0081002, 1.1423978, 1.0892727, 1.0956494, 1.5042249, 1.2922068, 1.0811625, 1.0834851, 1.100152, 1.2863295, 1.3524644, 1.1069232, 1.6510735]\n",
      "numberbatch cosine [2.6500287, 2.0938087, 1.1085597, 1.8618876, 2.8175888, 6.1084785, 3.0793502, 4.961867, 1.0450932, 2.1944315, 2.1919627, 3.9952605, 1.0075816, 2.3467934, 1.1080618, 1.6068223, 3.6705792, 2.3066344, 1.2970155, 1.232057, 1.3476558, 3.274028, 2.7021053, 1.5486946, 11.76156]\n",
      "numberbatch manhattan [2.0025144, 1.3642163, 1.0899386, 1.7095814, 1.854679, 1.6441368, 1.1963086, 1.2979554, 1.0257467, 1.7010318, 1.1404572, 1.5941116, 1.021482, 1.1472604, 1.0993924, 1.0838928, 1.5407184, 1.2241504, 1.1203464, 1.1117703, 1.0834156, 1.2353876, 1.3713664, 1.0646703, 1.6240363]\n",
      "glove euclidean [1.80643, 1.0634828, 1.1769202, 1.4045603, 1.3819504, 1.4834409, 1.1600482, 1.2198783, 1.1205531, 1.451329, 1.4492497, 1.5065567, 1.5511786, 1.1549554, 1.0623455, 1.1710093, 1.3425051, 1.1364269, 1.1792902, 1.1143231, 1.0037423, 1.3694654, 1.2187216, 1.0328593, 1.8140345]\n",
      "glove cosine [3.4946642, 1.6817666, 1.4111406, 4.9816895, 1.8850092, 3.0066674, 1.908259, 2.194557, 1.29481, 1.761425, 13.256642, 2.616554, 3.796211, -12.88541, 1.0166398, 2.8681402, 1.5221355, 1.1785792, 1.5623147, 1.3801688, 1.2294286, 1.3801413, 2.099358, 1.2082306, 4.5782485]\n",
      "glove manhattan [1.7540103, 1.0969442, 1.1869347, 1.2105391, 1.4495208, 1.4890776, 1.1061083, 1.2799182, 1.1413, 1.5007144, 1.4227923, 1.4613079, 1.4249897, 1.0544475, 1.0538039, 1.1646063, 1.371531, 1.1094269, 1.1920967, 1.0851222, 1.0252665, 1.3570292, 1.2329587, 1.0488713, 1.7074987]\n"
     ]
    },
    {
     "data": {
      "text/plain": "<Figure size 1000x800 with 1 Axes>",
      "image/png": "[encoded data removed]"
     },
     "metadata": {},
     "output_type": "display_data"
    },
    {
     "data": {
      "text/plain": "<Figure size 1000x800 with 1 Axes>",
      "image/png": "[encoded data removed]"
     },
     "metadata": {},
     "output_type": "display_data"
    },
    {
     "data": {
      "text/plain": "<Figure size 1000x800 with 1 Axes>",
      "image/png": "[encoded data removed]"
     },
     "metadata": {},
     "output_type": "display_data"
    }
   ],
   "source": [
    "orig_embeddings = get_embeddings(embeddings)\n",
    "comp_embeddings = get_comparison_embeddings(orig_embeddings)\n",
    "comp_distances = compare_embeddings(comp_embeddings)\n",
    "compare_distances(comp_distances)"
   ]
  },
  {
   "cell_type": "markdown",
   "source": [
    "# Analysis findings\n",
    "As we can see, the figures show a result that almost seems too close to call. In all cases, Glove & Numberbatch have distance ratios within about ~0.1, with the cosine similarity having a wider margin, with a median difference of about a full point between Numberbatch & Glove.\n",
    "While these margins may certainly seem slim, the consistency of the results does present a tendency towards an answer to our original research questions. Rather than seeing an improved performance from Numberbatch in relation to how well it averages ambiguous word definitions, it instead performance consistently worse, tending to have a worse bias towards one definition over another in the average cases across all tested metrics. This does not necessarily indicate an absolute performance metric being appreciatively worse, but the IQR being significantly smaller in all 3 metrics does indicate that there may be an overall tendency for Numberbatch to center on singular definitions of words (or at least some subset of definitions) over evenly representing all ambiguous word senses within a given embedding.\n",
    "As such, we can confidently reject our hypothesis: Numberbatch’s efforts to debias & its multi-lingual capabilities have not represented in any improved performance in relation to the embeddings’ ability to evenly represent word definitions. Rather, Numberbatch’s performance is consistently worse across all measured metrics, with its IQRs and median tending to result in a larger ratio (worse) on average versus Glove’s results. Therefore, we state that our hypothesis was incorrect and Numberbatch does not have superior performance vis-à-vis having semantic vectors that are near-equidistant to disambiguated definitional senses.\n"
   ],
   "metadata": {
    "collapsed": false
   }
  },
  {
   "cell_type": "markdown",
   "source": [
    "# Potential conferences or journals\n",
    "We believe that the results of our research, if sufficiently beefed up to introduce additional rigor and analysis, may \n",
    "be of interests to a conference such as The International Conference on Learning Representations (ICLR), which has already hosted papers on bias mitigation & analysis, as well as The Conference on Fairness, Accountability, and Transparency (FAccT), which has research on the ethical considerations and transparency of AI as one of its focal points. We believe that our work representations a meaningful avenue of research within the considerations of both bias and transparency within Ais, and believe these conferences would be well suited to the publishment of our work.\n"
   ],
   "metadata": {
    "collapsed": false
   }
  },
  {
   "cell_type": "markdown",
   "source": [],
   "metadata": {
    "collapsed": false
   }
  }
 ],
 "metadata": {
  "kernelspec": {
   "display_name": "remote-venv",
   "language": "python",
   "name": "python3"
  },
  "language_info": {
   "codemirror_mode": {
    "name": "ipython",
    "version": 3
   },
   "file_extension": ".py",
   "mimetype": "text/x-python",
   "name": "python",
   "nbconvert_exporter": "python",
   "pygments_lexer": "ipython3",
   "version": "3.10.13"
  }
 },
 "nbformat": 4,
 "nbformat_minor": 2
}
